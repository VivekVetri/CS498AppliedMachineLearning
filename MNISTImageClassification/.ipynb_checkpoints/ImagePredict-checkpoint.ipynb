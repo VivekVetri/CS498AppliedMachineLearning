{
 "cells": [
  {
   "cell_type": "markdown",
   "metadata": {},
   "source": [
    "# Viraj Bhalala\n",
    "## HW 1 Problem 2\n",
    "### CS 498: Applied Machine Learning"
   ]
  },
  {
   "cell_type": "code",
   "execution_count": 1,
   "metadata": {},
   "outputs": [],
   "source": [
    "#PIL(Pillar) is used to easily edit image\n",
    "from PIL import Image, ImageOps\n",
    "import sklearn\n",
    "from sklearn.model_selection import train_test_split\n",
    "#http://scikit-learn.org/stable/modules/generated/sklearn.datasets.fetch_mldata.html\n",
    "from sklearn.datasets import fetch_mldata\n",
    "#http://scikit-learn.org/stable/modules/generated/sklearn.naive_bayes.BernoulliNB.html\n",
    "from sklearn.naive_bayes import BernoulliNB\n",
    "#http://scikit-learn.org/stable/modules/generated/sklearn.naive_bayes.GaussianNB.html#sklearn.naive_bayes.GaussianNB\n",
    "from sklearn.naive_bayes import GaussianNB\n",
    "#http://scikit-learn.org/stable/modules/generated/sklearn.metrics.accuracy_score.html\n",
    "from sklearn.metrics import accuracy_score\n",
    "#http://scikit-learn.org/stable/modules/generated/sklearn.ensemble.RandomForestClassifier.html\n",
    "from sklearn.ensemble import RandomForestClassifier\n",
    "import random"
   ]
  },
  {
   "cell_type": "code",
   "execution_count": 2,
   "metadata": {},
   "outputs": [],
   "source": [
    "random.seed(1)"
   ]
  },
  {
   "cell_type": "markdown",
   "metadata": {},
   "source": [
    "## MINIST Data contains labeled image data of handwritten numbers"
   ]
  },
  {
   "cell_type": "code",
   "execution_count": 3,
   "metadata": {},
   "outputs": [],
   "source": [
    "# I am using MNIST dataset provided by sklearn. \n",
    "#The dataset length is same compare to the source that is mentioned in course page.\n",
    "mnist_dataset = fetch_mldata('MNIST original')"
   ]
  },
  {
   "cell_type": "markdown",
   "metadata": {},
   "source": [
    "## Sample Image as pixel matrix"
   ]
  },
  {
   "cell_type": "code",
   "execution_count": 9,
   "metadata": {},
   "outputs": [
    {
     "data": {
      "text/plain": [
       "array([  0,   0,   0,   0,   0,   0,   0,   0,   0,   0,   0,   0,   0,\n",
       "         0,   0,   0,   0,   0,   0,   0,   0,   0,   0,   0,   0,   0,\n",
       "         0,   0,   0,   0,   0,   0,   0,   0,   0,   0,   0,   0,   0,\n",
       "         0,   0,   0,   0,   0,   0,   0,   0,   0,   0,   0,   0,   0,\n",
       "         0,   0,   0,   0,   0,   0,   0,   0,   0,   0,   0,   0,   0,\n",
       "         0,   0,   0,   0,   0,   0,   0,   0,   0,   0,   0,   0,   0,\n",
       "         0,   0,   0,   0,   0,   0,   0,   0,   0,   0,   0,   0,   0,\n",
       "         0,   0,   0,   0,   0,   0,   0,   0,   0,   0,   0,   0,   0,\n",
       "         0,   0,   0,   0,   0,   0,   0,   0,   0,   0,   0,   0,   0,\n",
       "         0,   0,   0,   0,   0,   0,   0,   0,   0,   0,   0,   0,  64,\n",
       "       253, 255,  63,   0,   0,   0,   0,   0,   0,   0,   0,   0,   0,\n",
       "         0,   0,   0,   0,   0,   0,   0,   0,   0,   0,   0,   0,   0,\n",
       "        96, 205, 251, 253, 205, 111,   4,   0,   0,   0,   0,   0,   0,\n",
       "         0,   0,   0,   0,   0,   0,   0,   0,   0,   0,   0,   0,   0,\n",
       "         0,  96, 189, 251, 251, 253, 251, 251,  31,   0,   0,   0,   0,\n",
       "         0,   0,   0,   0,   0,   0,   0,   0,   0,   0,   0,   0,   0,\n",
       "        16,  64, 223, 244, 251, 251, 211, 213, 251, 251,  31,   0,   0,\n",
       "         0,   0,   0,   0,   0,   0,   0,   0,   0,   0,   0,   0,   0,\n",
       "         0,  80, 181, 251, 253, 251, 251, 251,  94,  96, 251, 251,  31,\n",
       "         0,   0,   0,   0,   0,   0,   0,   0,   0,   0,   0,   0,   0,\n",
       "         0,   0,  92, 253, 253, 253, 255, 253, 253, 253,  95,  96, 253,\n",
       "       253,  31,   0,   0,   0,   0,   0,   0,   0,   0,   0,   0,   0,\n",
       "         0,   0,   0,  92, 236, 251, 243, 220, 233, 251, 251, 243,  82,\n",
       "        96, 251, 251,  31,   0,   0,   0,   0,   0,   0,   0,   0,   0,\n",
       "         0,   0,   0,   0,  80, 253, 251, 251, 188,   0,  96, 251, 251,\n",
       "       109,   0,  96, 251, 251,  31,   0,   0,   0,   0,   0,   0,   0,\n",
       "         0,   0,   0,   0,   0,  96, 240, 253, 243, 188,  42,   0,  96,\n",
       "       204, 109,   4,   0,  12, 197, 251,  31,   0,   0,   0,   0,   0,\n",
       "         0,   0,   0,   0,   0,   0,   0, 221, 251, 253, 121,   0,   0,\n",
       "         0,  36,  23,   0,   0,   0,   0, 190, 251,  31,   0,   0,   0,\n",
       "         0,   0,   0,   0,   0,   0,   0,   0,  48, 234, 253,   0,   0,\n",
       "         0,   0,   0,   0,   0,   0,   0,   0,   0, 191, 253,  31,   0,\n",
       "         0,   0,   0,   0,   0,   0,   0,   0,   0,  44, 221, 251, 251,\n",
       "         0,   0,   0,   0,   0,   0,   0,   0,   0,   0,  12, 197, 251,\n",
       "        31,   0,   0,   0,   0,   0,   0,   0,   0,   0,   0, 190, 251,\n",
       "       251, 251,   0,   0,   0,   0,   0,   0,   0,   0,   0,   0,  96,\n",
       "       251, 251,  31,   0,   0,   0,   0,   0,   0,   0,   0,   0,   0,\n",
       "       190, 251, 251, 113,   0,   0,   0,   0,   0,   0,   0,   0,   0,\n",
       "        40, 234, 251, 219,  23,   0,   0,   0,   0,   0,   0,   0,   0,\n",
       "         0,   0, 190, 251, 251,  94,   0,   0,   0,   0,   0,   0,   0,\n",
       "         0,  40, 217, 253, 231,  47,   0,   0,   0,   0,   0,   0,   0,\n",
       "         0,   0,   0,   0, 191, 253, 253, 253,   0,   0,   0,   0,   0,\n",
       "         0,  12, 174, 253, 253, 219,  39,   0,   0,   0,   0,   0,   0,\n",
       "         0,   0,   0,   0,   0,   0,  67, 236, 251, 251, 191, 190, 111,\n",
       "        72, 190, 191, 197, 251, 243, 121,  39,   0,   0,   0,   0,   0,\n",
       "         0,   0,   0,   0,   0,   0,   0,   0,   0,  63, 236, 251, 253,\n",
       "       251, 251, 251, 251, 253, 251, 188,  94,   0,   0,   0,   0,   0,\n",
       "         0,   0,   0,   0,   0,   0,   0,   0,   0,   0,   0,   0,  27,\n",
       "       129, 253, 251, 251, 251, 251, 229, 168,  15,   0,   0,   0,   0,\n",
       "         0,   0,   0,   0,   0,   0,   0,   0,   0,   0,   0,   0,   0,\n",
       "         0,   0,   0,  95, 212, 251, 211,  94,  59,   0,   0,   0,   0,\n",
       "         0,   0,   0,   0,   0,   0,   0,   0,   0,   0,   0,   0,   0,\n",
       "         0,   0,   0,   0,   0,   0,   0,   0,   0,   0,   0,   0,   0,\n",
       "         0,   0,   0,   0,   0,   0,   0,   0,   0,   0,   0,   0,   0,\n",
       "         0,   0,   0,   0,   0,   0,   0,   0,   0,   0,   0,   0,   0,\n",
       "         0,   0,   0,   0,   0,   0,   0,   0,   0,   0,   0,   0,   0,\n",
       "         0,   0,   0,   0,   0,   0,   0,   0,   0,   0,   0,   0,   0,\n",
       "         0,   0,   0,   0,   0,   0,   0,   0,   0,   0,   0,   0,   0,\n",
       "         0,   0,   0,   0,   0,   0,   0,   0,   0,   0,   0,   0,   0,\n",
       "         0,   0,   0,   0,   0,   0,   0,   0,   0,   0,   0,   0,   0,\n",
       "         0,   0,   0,   0], dtype=uint8)"
      ]
     },
     "execution_count": 9,
     "metadata": {},
     "output_type": "execute_result"
    }
   ],
   "source": [
    "mnist_dataset['data'][1]"
   ]
  },
  {
   "cell_type": "markdown",
   "metadata": {},
   "source": [
    "## Sample data as image"
   ]
  },
  {
   "cell_type": "code",
   "execution_count": 19,
   "metadata": {},
   "outputs": [
    {
     "data": {
      "image/png": "[encoded data removed]",
      "text/plain": [
       "<PIL.Image.Image image mode=L size=20x20 at 0x1043F4400>"
      ]
     },
     "execution_count": 19,
     "metadata": {},
     "output_type": "execute_result"
    }
   ],
   "source": [
    "Image.fromarray(mnist_dataset['data'][1].reshape(28,28)).resize((20, 20))"
   ]
  },
  {
   "cell_type": "code",
   "execution_count": 4,
   "metadata": {},
   "outputs": [
    {
     "name": "stdout",
     "output_type": "stream",
     "text": [
      "70000\n"
     ]
    }
   ],
   "source": [
    "print(len(mnist_dataset['data']))"
   ]
  },
  {
   "cell_type": "code",
   "execution_count": 5,
   "metadata": {},
   "outputs": [
    {
     "data": {
      "text/plain": [
       "784"
      ]
     },
     "execution_count": 5,
     "metadata": {},
     "output_type": "execute_result"
    }
   ],
   "source": [
    "len((mnist_dataset['data'][1]))"
   ]
  },
  {
   "cell_type": "markdown",
   "metadata": {},
   "source": [
    "## Train and Test Split"
   ]
  },
  {
   "cell_type": "code",
   "execution_count": 7,
   "metadata": {
    "collapsed": true
   },
   "outputs": [],
   "source": [
    "# I am using  train and test data split function from sklearn\n",
    "X_train, X_test, y_train, y_test = train_test_split( mnist_dataset['data'],\n",
    "                                                    mnist_dataset['target'],\n",
    "                                                    test_size=10000, \n",
    "                                                    random_state=42)"
   ]
  },
  {
   "cell_type": "code",
   "execution_count": 8,
   "metadata": {},
   "outputs": [
    {
     "name": "stdout",
     "output_type": "stream",
     "text": [
      "60000\n",
      "10000\n"
     ]
    }
   ],
   "source": [
    "print(len(X_train))\n",
    "print(len(X_test))"
   ]
  },
  {
   "cell_type": "markdown",
   "metadata": {},
   "source": [
    "# Part A\n",
    "### Untouched Images\n",
    "### BernoulliNB"
   ]
  },
  {
   "cell_type": "code",
   "execution_count": 9,
   "metadata": {},
   "outputs": [
    {
     "data": {
      "text/plain": [
       "BernoulliNB(alpha=1.0, binarize=0.0, class_prior=None, fit_prior=True)"
      ]
     },
     "execution_count": 9,
     "metadata": {},
     "output_type": "execute_result"
    }
   ],
   "source": [
    "# I am using Bernoulli Naive Bayes classifier that is provided by sklearn library. \n",
    "# Please refer to http://scikit-learn.org/stable/modules/generated/sklearn.naive_bayes.BernoulliNB.html\n",
    "\n",
    "clf = BernoulliNB()\n",
    "clf.fit(X_train, y_train)"
   ]
  },
  {
   "cell_type": "code",
   "execution_count": 10,
   "metadata": {
    "collapsed": true
   },
   "outputs": [],
   "source": [
    "predict_y = clf.predict(X_test)"
   ]
  },
  {
   "cell_type": "code",
   "execution_count": 11,
   "metadata": {},
   "outputs": [
    {
     "name": "stdout",
     "output_type": "stream",
     "text": [
      "Accuracy score of BernoulliNB using untouched images:  0.8342\n"
     ]
    }
   ],
   "source": [
    "print(\"Accuracy score of BernoulliNB using untouched images: \" ,\n",
    "      accuracy_score(y_test,predict_y ))"
   ]
  },
  {
   "cell_type": "markdown",
   "metadata": {},
   "source": [
    "### GaussianNB"
   ]
  },
  {
   "cell_type": "code",
   "execution_count": 12,
   "metadata": {},
   "outputs": [
    {
     "name": "stdout",
     "output_type": "stream",
     "text": [
      "Accuracy score of GaussianNB using untouched images:  0.5635\n"
     ]
    }
   ],
   "source": [
    "clf = GaussianNB()\n",
    "clf.fit(X_train, y_train)\n",
    "predict_y = clf.predict(X_test)\n",
    "print(\"Accuracy score of GaussianNB using untouched images: \" ,\n",
    "      accuracy_score(y_test,predict_y ))"
   ]
  },
  {
   "cell_type": "markdown",
   "metadata": {},
   "source": [
    "### Streched Bounding Box\n",
    "### Image Prep"
   ]
  },
  {
   "cell_type": "code",
   "execution_count": 7,
   "metadata": {},
   "outputs": [],
   "source": [
    "data = mnist_dataset['data']\n",
    "newData = []\n",
    "outcomes = mnist_dataset['target']\n",
    "for i in range(0,len(data)):\n",
    "    #convert array to matrix of 28 by 28 and convert matrix to image. Atlast, resize the image to 20x20\n",
    "    im = Image.fromarray(data[i].reshape(28,28)).resize((20, 20))\n",
    "    #get minimum bounding box\n",
    "    bbox = im.getbbox()\n",
    "    #crop the image based on bounding box\n",
    "    newIm = im.crop(bbox)\n",
    "    #resize image to 20x20\n",
    "    newIm =newIm.resize((20, 20), Image.ANTIALIAS)\n",
    "    #add the image pixels back\n",
    "    newData.append(list(newIm.getdata()))\n"
   ]
  },
  {
   "cell_type": "code",
   "execution_count": 21,
   "metadata": {},
   "outputs": [
    {
     "data": {
      "image/png": "[encoded data removed]",
      "text/plain": [
       "<PIL.Image.Image image mode=L size=100x100 at 0x1043E7C50>"
      ]
     },
     "execution_count": 21,
     "metadata": {},
     "output_type": "execute_result"
    }
   ],
   "source": [
    "Image.fromarray(data[i].reshape(28,28)).resize((100, 100))"
   ]
  },
  {
   "cell_type": "code",
   "execution_count": 14,
   "metadata": {
    "collapsed": true
   },
   "outputs": [],
   "source": [
    "X_train_new, X_test_new, y_train_new, y_test_new = train_test_split( newData, mnist_dataset['target'], test_size=10000, random_state=42)"
   ]
  },
  {
   "cell_type": "markdown",
   "metadata": {},
   "source": [
    "### BernoulliNB"
   ]
  },
  {
   "cell_type": "code",
   "execution_count": 15,
   "metadata": {},
   "outputs": [
    {
     "name": "stdout",
     "output_type": "stream",
     "text": [
      "Accuracy score of BernoulliNB using edit images:  0.7416\n"
     ]
    }
   ],
   "source": [
    "# I am using Bernoulli Naive Bayes classifier that is provided by sklearn library. \n",
    "# Please refer to http://scikit-learn.org/stable/modules/generated/sklearn.naive_bayes.BernoulliNB.html\n",
    "\n",
    "clf = BernoulliNB()\n",
    "clf.fit(X_train_new, y_train_new)\n",
    "predict_y_new = clf.predict(X_test_new)\n",
    "print(\"Accuracy score of BernoulliNB using edit images: \" ,accuracy_score(y_test_new,predict_y_new ))"
   ]
  },
  {
   "cell_type": "markdown",
   "metadata": {},
   "source": [
    "### GaussianNB"
   ]
  },
  {
   "cell_type": "code",
   "execution_count": 16,
   "metadata": {},
   "outputs": [
    {
     "name": "stdout",
     "output_type": "stream",
     "text": [
      "Accuracy score of GaussianNB using edit images:  0.8011\n"
     ]
    }
   ],
   "source": [
    "clf = GaussianNB()\n",
    "clf.fit(X_train_new, y_train_new)\n",
    "predict_y_new = clf.predict(X_test_new)\n",
    "print(\"Accuracy score of GaussianNB using edit images: \" ,accuracy_score(y_test_new,predict_y_new ))"
   ]
  },
  {
   "cell_type": "code",
   "execution_count": null,
   "metadata": {
    "collapsed": true
   },
   "outputs": [],
   "source": []
  },
  {
   "cell_type": "code",
   "execution_count": null,
   "metadata": {
    "collapsed": true
   },
   "outputs": [],
   "source": []
  },
  {
   "cell_type": "markdown",
   "metadata": {},
   "source": [
    "# Part B\n",
    "## Random Forest (Decision Forest)\n",
    "### Original Images"
   ]
  },
  {
   "cell_type": "code",
   "execution_count": 17,
   "metadata": {},
   "outputs": [
    {
     "name": "stdout",
     "output_type": "stream",
     "text": [
      "Accuracy score of Random Forest with 10 trees and 4 max depth using orginal images: 0.6543\n",
      "Accuracy score of Random Forest with 10 trees and 8 max depth using orginal images: 0.6985\n",
      "Accuracy score of Random Forest with 10 trees and 16 max depth using orginal images: 0.6777\n",
      "Accuracy score of Random Forest with 20 trees and 4 max depth using orginal images: 0.6558\n",
      "Accuracy score of Random Forest with 20 trees and 8 max depth using orginal images: 0.6722\n",
      "Accuracy score of Random Forest with 20 trees and 16 max depth using orginal images: 0.6635\n",
      "Accuracy score of Random Forest with 30 trees and 4 max depth using orginal images: 0.6802\n",
      "Accuracy score of Random Forest with 30 trees and 8 max depth using orginal images: 0.6735\n",
      "Accuracy score of Random Forest with 30 trees and 16 max depth using orginal images: 0.6726\n"
     ]
    }
   ],
   "source": [
    "depthAll = [4,8,16]\n",
    "treesAll = [10,20,30]\n",
    "for trees in treesAll:\n",
    "    for depth in depthAll:\n",
    "        clf = RandomForestClassifier(max_depth=4, n_estimators=4)\n",
    "        clf.fit(X_train, y_train)\n",
    "        predict_y = clf.predict(X_test)\n",
    "        print(\"Accuracy score of Random Forest with {} trees and {} max depth using orginal images: {}\".format(trees, depth, accuracy_score(y_test,predict_y)))\n",
    "\n"
   ]
  },
  {
   "cell_type": "markdown",
   "metadata": {},
   "source": [
    "### Streched Bounding Box with 20x20 pixels\n",
    "\n"
   ]
  },
  {
   "cell_type": "code",
   "execution_count": 18,
   "metadata": {},
   "outputs": [
    {
     "name": "stdout",
     "output_type": "stream",
     "text": [
      "Accuracy score of Random Forest with 10 trees and 4 max depth using edit images: 0.6669\n",
      "Accuracy score of Random Forest with 10 trees and 8 max depth using edit images: 0.6316\n",
      "Accuracy score of Random Forest with 10 trees and 16 max depth using edit images: 0.684\n",
      "Accuracy score of Random Forest with 20 trees and 4 max depth using edit images: 0.7148\n",
      "Accuracy score of Random Forest with 20 trees and 8 max depth using edit images: 0.6504\n",
      "Accuracy score of Random Forest with 20 trees and 16 max depth using edit images: 0.701\n",
      "Accuracy score of Random Forest with 30 trees and 4 max depth using edit images: 0.6725\n",
      "Accuracy score of Random Forest with 30 trees and 8 max depth using edit images: 0.699\n",
      "Accuracy score of Random Forest with 30 trees and 16 max depth using edit images: 0.6821\n"
     ]
    }
   ],
   "source": [
    "depthAll = [4,8,16]\n",
    "treesAll = [10,20,30]\n",
    "for trees in treesAll:\n",
    "    for depth in depthAll:\n",
    "        clf = RandomForestClassifier(max_depth=4, n_estimators=4)\n",
    "        clf.fit(X_train_new, y_train_new)\n",
    "        predict_y_new = clf.predict(X_test_new)\n",
    "        print(\"Accuracy score of Random Forest with {} trees and {} max depth using edit images: {}\".format(trees, depth, accuracy_score(y_test_new,predict_y_new)))\n",
    "\n",
    "\n"
   ]
  },
  {
   "cell_type": "code",
   "execution_count": null,
   "metadata": {
    "collapsed": true
   },
   "outputs": [],
   "source": []
  },
  {
   "cell_type": "code",
   "execution_count": null,
   "metadata": {
    "collapsed": true
   },
   "outputs": [],
   "source": []
  },
  {
   "cell_type": "code",
   "execution_count": null,
   "metadata": {
    "collapsed": true
   },
   "outputs": [],
   "source": []
  }
 ],
 "metadata": {
  "kernelspec": {
   "display_name": "Python 3",
   "language": "python",
   "name": "python3"
  },
  "language_info": {
   "codemirror_mode": {
    "name": "ipython",
    "version": 3
   },
   "file_extension": ".py",
   "mimetype": "text/x-python",
   "name": "python",
   "nbconvert_exporter": "python",
   "pygments_lexer": "ipython3",
   "version": "3.6.2"
  }
 },
 "nbformat": 4,
 "nbformat_minor": 2
}
