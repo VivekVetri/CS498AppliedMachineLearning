{
 "cells": [
  {
   "cell_type": "markdown",
   "metadata": {},
   "source": [
    "# Viraj Bhalala\n",
    "## HW 1 Problem 2\n",
    "### CS 498: Applied Machine Learning"
   ]
  },
  {
   "cell_type": "code",
   "execution_count": 2,
   "metadata": {
    "collapsed": true
   },
   "outputs": [],
   "source": [
    "#PIL(Pillar) is used to easily edit image\n",
    "from PIL import Image, ImageOps\n",
    "import sklearn\n",
    "from sklearn.model_selection import train_test_split\n",
    "#http://scikit-learn.org/stable/modules/generated/sklearn.datasets.fetch_mldata.html\n",
    "from sklearn.datasets import fetch_mldata\n",
    "#http://scikit-learn.org/stable/modules/generated/sklearn.naive_bayes.BernoulliNB.html\n",
    "from sklearn.naive_bayes import BernoulliNB\n",
    "#http://scikit-learn.org/stable/modules/generated/sklearn.naive_bayes.GaussianNB.html#sklearn.naive_bayes.GaussianNB\n",
    "from sklearn.naive_bayes import GaussianNB\n",
    "#http://scikit-learn.org/stable/modules/generated/sklearn.metrics.accuracy_score.html\n",
    "from sklearn.metrics import accuracy_score\n",
    "#http://scikit-learn.org/stable/modules/generated/sklearn.ensemble.RandomForestClassifier.html\n",
    "from sklearn.ensemble import RandomForestClassifier\n",
    "import random"
   ]
  },
  {
   "cell_type": "code",
   "execution_count": 3,
   "metadata": {
    "collapsed": true
   },
   "outputs": [],
   "source": [
    "random.seed(1)"
   ]
  },
  {
   "cell_type": "code",
   "execution_count": 4,
   "metadata": {
    "collapsed": true
   },
   "outputs": [],
   "source": [
    "# I am using MNIST dataset provided by sklearn. \n",
    "#The dataset length is same compare to the source that is mentioned in course page.\n",
    "mnist_dataset = fetch_mldata('MNIST original')"
   ]
  },
  {
   "cell_type": "code",
   "execution_count": 5,
   "metadata": {},
   "outputs": [
    {
     "name": "stdout",
     "output_type": "stream",
     "text": [
      "70000\n"
     ]
    }
   ],
   "source": [
    "print(len(mnist_dataset['data']))"
   ]
  },
  {
   "cell_type": "code",
   "execution_count": 6,
   "metadata": {},
   "outputs": [
    {
     "data": {
      "text/plain": [
       "784"
      ]
     },
     "execution_count": 6,
     "metadata": {},
     "output_type": "execute_result"
    }
   ],
   "source": [
    "len((mnist_dataset['data'][1]))"
   ]
  },
  {
   "cell_type": "markdown",
   "metadata": {},
   "source": [
    "## Train and Test Split"
   ]
  },
  {
   "cell_type": "code",
   "execution_count": 7,
   "metadata": {
    "collapsed": true
   },
   "outputs": [],
   "source": [
    "# I am using  train and test data split function from sklearn\n",
    "X_train, X_test, y_train, y_test = train_test_split( mnist_dataset['data'],\n",
    "                                                    mnist_dataset['target'],\n",
    "                                                    test_size=10000, \n",
    "                                                    random_state=42)"
   ]
  },
  {
   "cell_type": "code",
   "execution_count": 8,
   "metadata": {},
   "outputs": [
    {
     "name": "stdout",
     "output_type": "stream",
     "text": [
      "60000\n",
      "10000\n"
     ]
    }
   ],
   "source": [
    "print(len(X_train))\n",
    "print(len(X_test))"
   ]
  },
  {
   "cell_type": "markdown",
   "metadata": {},
   "source": [
    "# Part A\n",
    "### Untouched Images\n",
    "### BernoulliNB"
   ]
  },
  {
   "cell_type": "code",
   "execution_count": 9,
   "metadata": {},
   "outputs": [
    {
     "data": {
      "text/plain": [
       "BernoulliNB(alpha=1.0, binarize=0.0, class_prior=None, fit_prior=True)"
      ]
     },
     "execution_count": 9,
     "metadata": {},
     "output_type": "execute_result"
    }
   ],
   "source": [
    "# I am using Bernoulli Naive Bayes classifier that is provided by sklearn library. \n",
    "# Please refer to http://scikit-learn.org/stable/modules/generated/sklearn.naive_bayes.BernoulliNB.html\n",
    "\n",
    "clf = BernoulliNB()\n",
    "clf.fit(X_train, y_train)"
   ]
  },
  {
   "cell_type": "code",
   "execution_count": 10,
   "metadata": {
    "collapsed": true
   },
   "outputs": [],
   "source": [
    "predict_y = clf.predict(X_test)"
   ]
  },
  {
   "cell_type": "code",
   "execution_count": 11,
   "metadata": {},
   "outputs": [
    {
     "name": "stdout",
     "output_type": "stream",
     "text": [
      "Accuracy score of BernoulliNB using untouched images:  0.8342\n"
     ]
    }
   ],
   "source": [
    "print(\"Accuracy score of BernoulliNB using untouched images: \" ,\n",
    "      accuracy_score(y_test,predict_y ))"
   ]
  },
  {
   "cell_type": "markdown",
   "metadata": {},
   "source": [
    "### GaussianNB"
   ]
  },
  {
   "cell_type": "code",
   "execution_count": 12,
   "metadata": {},
   "outputs": [
    {
     "name": "stdout",
     "output_type": "stream",
     "text": [
      "Accuracy score of GaussianNB using untouched images:  0.5635\n"
     ]
    }
   ],
   "source": [
    "clf = GaussianNB()\n",
    "clf.fit(X_train, y_train)\n",
    "predict_y = clf.predict(X_test)\n",
    "print(\"Accuracy score of GaussianNB using untouched images: \" ,\n",
    "      accuracy_score(y_test,predict_y ))"
   ]
  },
  {
   "cell_type": "markdown",
   "metadata": {},
   "source": [
    "### Streched Bounding Box\n",
    "### Image Prep"
   ]
  },
  {
   "cell_type": "code",
   "execution_count": 13,
   "metadata": {
    "collapsed": true
   },
   "outputs": [],
   "source": [
    "data = mnist_dataset['data']\n",
    "newData = []\n",
    "outcomes = mnist_dataset['target']\n",
    "for i in range(0,len(data)):\n",
    "    #convert array to matrix of 28 by 28 and convert matrix to image. Atlast, resize the image to 20x20\n",
    "    im = Image.fromarray(data[i].reshape(28,28)).resize((20, 20))\n",
    "    #get minimum bounding box\n",
    "    bbox = im.getbbox()\n",
    "    #crop the image based on bounding box\n",
    "    newIm = im.crop(bbox)\n",
    "    #resize image to 20x20\n",
    "    newIm =newIm.resize((20, 20), Image.ANTIALIAS)\n",
    "    #add the image pixels back\n",
    "    newData.append(list(newIm.getdata()))\n"
   ]
  },
  {
   "cell_type": "code",
   "execution_count": 14,
   "metadata": {
    "collapsed": true
   },
   "outputs": [],
   "source": [
    "X_train_new, X_test_new, y_train_new, y_test_new = train_test_split( newData, mnist_dataset['target'], test_size=10000, random_state=42)"
   ]
  },
  {
   "cell_type": "markdown",
   "metadata": {},
   "source": [
    "### BernoulliNB"
   ]
  },
  {
   "cell_type": "code",
   "execution_count": 15,
   "metadata": {},
   "outputs": [
    {
     "name": "stdout",
     "output_type": "stream",
     "text": [
      "Accuracy score of BernoulliNB using edit images:  0.7416\n"
     ]
    }
   ],
   "source": [
    "# I am using Bernoulli Naive Bayes classifier that is provided by sklearn library. \n",
    "# Please refer to http://scikit-learn.org/stable/modules/generated/sklearn.naive_bayes.BernoulliNB.html\n",
    "\n",
    "clf = BernoulliNB()\n",
    "clf.fit(X_train_new, y_train_new)\n",
    "predict_y_new = clf.predict(X_test_new)\n",
    "print(\"Accuracy score of BernoulliNB using edit images: \" ,accuracy_score(y_test_new,predict_y_new ))"
   ]
  },
  {
   "cell_type": "markdown",
   "metadata": {},
   "source": [
    "### GaussianNB"
   ]
  },
  {
   "cell_type": "code",
   "execution_count": 16,
   "metadata": {},
   "outputs": [
    {
     "name": "stdout",
     "output_type": "stream",
     "text": [
      "Accuracy score of GaussianNB using edit images:  0.8011\n"
     ]
    }
   ],
   "source": [
    "clf = GaussianNB()\n",
    "clf.fit(X_train_new, y_train_new)\n",
    "predict_y_new = clf.predict(X_test_new)\n",
    "print(\"Accuracy score of GaussianNB using edit images: \" ,accuracy_score(y_test_new,predict_y_new ))"
   ]
  },
  {
   "cell_type": "code",
   "execution_count": null,
   "metadata": {
    "collapsed": true
   },
   "outputs": [],
   "source": []
  },
  {
   "cell_type": "code",
   "execution_count": null,
   "metadata": {
    "collapsed": true
   },
   "outputs": [],
   "source": []
  },
  {
   "cell_type": "markdown",
   "metadata": {},
   "source": [
    "# Part B\n",
    "## Random Forest (Decision Forest)\n",
    "### Original Images"
   ]
  },
  {
   "cell_type": "code",
   "execution_count": 17,
   "metadata": {},
   "outputs": [
    {
     "name": "stdout",
     "output_type": "stream",
     "text": [
      "Accuracy score of Random Forest with 10 trees and 4 max depth using orginal images: 0.6543\n",
      "Accuracy score of Random Forest with 10 trees and 8 max depth using orginal images: 0.6985\n",
      "Accuracy score of Random Forest with 10 trees and 16 max depth using orginal images: 0.6777\n",
      "Accuracy score of Random Forest with 20 trees and 4 max depth using orginal images: 0.6558\n",
      "Accuracy score of Random Forest with 20 trees and 8 max depth using orginal images: 0.6722\n",
      "Accuracy score of Random Forest with 20 trees and 16 max depth using orginal images: 0.6635\n",
      "Accuracy score of Random Forest with 30 trees and 4 max depth using orginal images: 0.6802\n",
      "Accuracy score of Random Forest with 30 trees and 8 max depth using orginal images: 0.6735\n",
      "Accuracy score of Random Forest with 30 trees and 16 max depth using orginal images: 0.6726\n"
     ]
    }
   ],
   "source": [
    "depthAll = [4,8,16]\n",
    "treesAll = [10,20,30]\n",
    "for trees in treesAll:\n",
    "    for depth in depthAll:\n",
    "        clf = RandomForestClassifier(max_depth=4, n_estimators=4)\n",
    "        clf.fit(X_train, y_train)\n",
    "        predict_y = clf.predict(X_test)\n",
    "        print(\"Accuracy score of Random Forest with {} trees and {} max depth using orginal images: {}\".format(trees, depth, accuracy_score(y_test,predict_y)))\n",
    "\n"
   ]
  },
  {
   "cell_type": "markdown",
   "metadata": {},
   "source": [
    "### Streched Bounding Box with 20x20 pixels\n",
    "\n"
   ]
  },
  {
   "cell_type": "code",
   "execution_count": 18,
   "metadata": {},
   "outputs": [
    {
     "name": "stdout",
     "output_type": "stream",
     "text": [
      "Accuracy score of Random Forest with 10 trees and 4 max depth using edit images: 0.6669\n",
      "Accuracy score of Random Forest with 10 trees and 8 max depth using edit images: 0.6316\n",
      "Accuracy score of Random Forest with 10 trees and 16 max depth using edit images: 0.684\n",
      "Accuracy score of Random Forest with 20 trees and 4 max depth using edit images: 0.7148\n",
      "Accuracy score of Random Forest with 20 trees and 8 max depth using edit images: 0.6504\n",
      "Accuracy score of Random Forest with 20 trees and 16 max depth using edit images: 0.701\n",
      "Accuracy score of Random Forest with 30 trees and 4 max depth using edit images: 0.6725\n",
      "Accuracy score of Random Forest with 30 trees and 8 max depth using edit images: 0.699\n",
      "Accuracy score of Random Forest with 30 trees and 16 max depth using edit images: 0.6821\n"
     ]
    }
   ],
   "source": [
    "depthAll = [4,8,16]\n",
    "treesAll = [10,20,30]\n",
    "for trees in treesAll:\n",
    "    for depth in depthAll:\n",
    "        clf = RandomForestClassifier(max_depth=4, n_estimators=4)\n",
    "        clf.fit(X_train_new, y_train_new)\n",
    "        predict_y_new = clf.predict(X_test_new)\n",
    "        print(\"Accuracy score of Random Forest with {} trees and {} max depth using edit images: {}\".format(trees, depth, accuracy_score(y_test_new,predict_y_new)))\n",
    "\n",
    "\n"
   ]
  },
  {
   "cell_type": "code",
   "execution_count": null,
   "metadata": {
    "collapsed": true
   },
   "outputs": [],
   "source": []
  },
  {
   "cell_type": "code",
   "execution_count": null,
   "metadata": {
    "collapsed": true
   },
   "outputs": [],
   "source": []
  },
  {
   "cell_type": "code",
   "execution_count": null,
   "metadata": {
    "collapsed": true
   },
   "outputs": [],
   "source": []
  }
 ],
 "metadata": {
  "kernelspec": {
   "display_name": "Python 3",
   "language": "python",
   "name": "python3"
  },
  "language_info": {
   "codemirror_mode": {
    "name": "ipython",
    "version": 3
   },
   "file_extension": ".py",
   "mimetype": "text/x-python",
   "name": "python",
   "nbconvert_exporter": "python",
   "pygments_lexer": "ipython3",
   "version": "3.6.2"
  }
 },
 "nbformat": 4,
 "nbformat_minor": 2
}
