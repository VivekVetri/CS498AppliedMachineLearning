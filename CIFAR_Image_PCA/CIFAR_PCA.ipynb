{
 "cells": [
  {
   "cell_type": "markdown",
   "metadata": {},
   "source": [
    "### CIFAR-10 Image Dataset - PCA\n",
    "\n",
    "1. Data Source- https://www.cs.toronto.edu/~kriz/cifar.html\n",
    "2. About Data- The CIFAR-10 dataset consists of 60000 32x32 colour images in 10 classes, with 6000 images per class."
   ]
  },
  {
   "cell_type": "code",
   "execution_count": 77,
   "metadata": {},
   "outputs": [],
   "source": [
    "import pandas as pd\n",
    "import numpy as np\n",
    "from PIL import Image, ImageOps\n",
    "import matplotlib.pyplot as plt\n",
    "import sklearn.manifold\n",
    "from sklearn.metrics import euclidean_distances\n",
    "from sklearn.decomposition import PCA\n",
    "from sklearn.manifold import MDS\n",
    "\n"
   ]
  },
  {
   "cell_type": "code",
   "execution_count": 2,
   "metadata": {},
   "outputs": [],
   "source": [
    "#load data's code taken from  https://www.cs.toronto.edu/~kriz/cifar.html\n",
    "def unpickle(file):\n",
    "    import pickle\n",
    "    with open(file, 'rb') as fo:\n",
    "        dict = pickle.load(fo, encoding='bytes')\n",
    "    return dict\n",
    "def createPlot(im):\n",
    "    r = im[0:1024].reshape(32, 32)\n",
    "    g = im[1024:2048].reshape(32, 32)\n",
    "    b = im[2048:].reshape(32, 32)\n",
    "    img = np.dstack((r, g, b))\n",
    "    plt.imshow(img)\n",
    "    plt.show()"
   ]
  },
  {
   "cell_type": "code",
   "execution_count": 3,
   "metadata": {},
   "outputs": [],
   "source": [
    "a =unpickle(file=\"../CIFAR_Image_PCA/cifar-10-batches-py/data_batch_1\")\n",
    "b =unpickle(file=\"../CIFAR_Image_PCA/cifar-10-batches-py/data_batch_2\")\n",
    "c =unpickle(file=\"../CIFAR_Image_PCA/cifar-10-batches-py/data_batch_3\")\n",
    "d =unpickle(file=\"../CIFAR_Image_PCA/cifar-10-batches-py/data_batch_4\")\n",
    "e =unpickle(file=\"../CIFAR_Image_PCA/cifar-10-batches-py/data_batch_5\")\n",
    "f =unpickle(file=\"../CIFAR_Image_PCA/cifar-10-batches-py/test_batch\")\n",
    "\n",
    "meta =unpickle(file=\"../CIFAR_Image_PCA/cifar-10-batches-py/batches.meta\")\n",
    "#Concat dictionary\n",
    "\n",
    "d = dict(a)\n",
    "d.update(b)\n",
    "d.update(c)\n",
    "d.update(d)\n",
    "d.update(e)\n",
    "d.update(f)"
   ]
  },
  {
   "cell_type": "code",
   "execution_count": 4,
   "metadata": {},
   "outputs": [
    {
     "data": {
      "text/plain": [
       "array([[158, 159, 165, ..., 124, 129, 110],\n",
       "       [235, 231, 232, ..., 178, 191, 199],\n",
       "       [158, 158, 139, ...,   8,   3,   7],\n",
       "       ..., \n",
       "       [ 20,  19,  15, ...,  50,  53,  47],\n",
       "       [ 25,  15,  23, ...,  80,  81,  80],\n",
       "       [ 73,  98,  99, ...,  94,  58,  26]], dtype=uint8)"
      ]
     },
     "execution_count": 4,
     "metadata": {},
     "output_type": "execute_result"
    }
   ],
   "source": [
    "d.get(b'data')"
   ]
  },
  {
   "cell_type": "code",
   "execution_count": 5,
   "metadata": {
    "scrolled": false
   },
   "outputs": [
    {
     "data": {
      "text/plain": [
       "8"
      ]
     },
     "execution_count": 5,
     "metadata": {},
     "output_type": "execute_result"
    }
   ],
   "source": [
    "d.get(b'labels')[1]"
   ]
  },
  {
   "cell_type": "code",
   "execution_count": 6,
   "metadata": {},
   "outputs": [
    {
     "data": {
      "text/plain": [
       "(10000, 3072)"
      ]
     },
     "execution_count": 6,
     "metadata": {},
     "output_type": "execute_result"
    }
   ],
   "source": [
    "d.get(b'data').shape"
   ]
  },
  {
   "cell_type": "code",
   "execution_count": 7,
   "metadata": {},
   "outputs": [
    {
     "data": {
      "text/plain": [
       "[0, 1, 2, 3, 4, 5, 6, 7, 8, 9]"
      ]
     },
     "execution_count": 7,
     "metadata": {},
     "output_type": "execute_result"
    }
   ],
   "source": [
    "#get unique labels/categories\n",
    "list(set(d.get(b'labels')))"
   ]
  },
  {
   "cell_type": "code",
   "execution_count": 8,
   "metadata": {},
   "outputs": [
    {
     "data": {
      "text/plain": [
       "array([b'airplane', b'automobile', b'bird', b'cat', b'deer', b'dog',\n",
       "       b'frog', b'horse', b'ship', b'truck'],\n",
       "      dtype='|S10')"
      ]
     },
     "execution_count": 8,
     "metadata": {},
     "output_type": "execute_result"
    }
   ],
   "source": [
    "# 0 airplane\n",
    "# 1 automobile\n",
    "# 2 bird\n",
    "# 3 cat\n",
    "# 4 deer\n",
    "# 5 dog\n",
    "# 6 frog\n",
    "# 7 horse\n",
    "# 8 ship\n",
    "# 9 truck\n",
    "categories = ['airplane','automobile','bird','cat','deer','dog','frog','horse','ship','truck']\n",
    "np.array(meta.get(b'label_names'))\n"
   ]
  },
  {
   "cell_type": "markdown",
   "metadata": {},
   "source": [
    "## Part 1: For each category,\n",
    "###   1. compute the mean image and the first 20 principal components.\n",
    "### 2. Plot the error resulting from representing the images of each category using the first 20 principal components against the category.\n",
    "\n"
   ]
  },
  {
   "cell_type": "code",
   "execution_count": 34,
   "metadata": {},
   "outputs": [],
   "source": [
    "#create a pandas DF\n",
    "images = pd.DataFrame( np.array(d.get(b'data')))\n",
    "labels =pd.DataFrame( np.array(d.get(b'labels')))\n",
    "images[\"labels\"] =labels\n"
   ]
  },
  {
   "cell_type": "code",
   "execution_count": 35,
   "metadata": {},
   "outputs": [
    {
     "data": {
      "text/html": [
       "<div>\n",
       "<style scoped>\n",
       "    .dataframe tbody tr th:only-of-type {\n",
       "        vertical-align: middle;\n",
       "    }\n",
       "\n",
       "    .dataframe tbody tr th {\n",
       "        vertical-align: top;\n",
       "    }\n",
       "\n",
       "    .dataframe thead th {\n",
       "        text-align: right;\n",
       "    }\n",
       "</style>\n",
       "<table border=\"1\" class=\"dataframe\">\n",
       "  <thead>\n",
       "    <tr style=\"text-align: right;\">\n",
       "      <th></th>\n",
       "      <th>0</th>\n",
       "      <th>1</th>\n",
       "      <th>2</th>\n",
       "      <th>3</th>\n",
       "      <th>4</th>\n",
       "      <th>5</th>\n",
       "      <th>6</th>\n",
       "      <th>7</th>\n",
       "      <th>8</th>\n",
       "      <th>9</th>\n",
       "      <th>...</th>\n",
       "      <th>3063</th>\n",
       "      <th>3064</th>\n",
       "      <th>3065</th>\n",
       "      <th>3066</th>\n",
       "      <th>3067</th>\n",
       "      <th>3068</th>\n",
       "      <th>3069</th>\n",
       "      <th>3070</th>\n",
       "      <th>3071</th>\n",
       "      <th>labels</th>\n",
       "    </tr>\n",
       "  </thead>\n",
       "  <tbody>\n",
       "    <tr>\n",
       "      <th>0</th>\n",
       "      <td>158</td>\n",
       "      <td>159</td>\n",
       "      <td>165</td>\n",
       "      <td>166</td>\n",
       "      <td>160</td>\n",
       "      <td>156</td>\n",
       "      <td>162</td>\n",
       "      <td>159</td>\n",
       "      <td>158</td>\n",
       "      <td>159</td>\n",
       "      <td>...</td>\n",
       "      <td>123</td>\n",
       "      <td>145</td>\n",
       "      <td>167</td>\n",
       "      <td>182</td>\n",
       "      <td>175</td>\n",
       "      <td>145</td>\n",
       "      <td>124</td>\n",
       "      <td>129</td>\n",
       "      <td>110</td>\n",
       "      <td>3</td>\n",
       "    </tr>\n",
       "    <tr>\n",
       "      <th>1</th>\n",
       "      <td>235</td>\n",
       "      <td>231</td>\n",
       "      <td>232</td>\n",
       "      <td>232</td>\n",
       "      <td>232</td>\n",
       "      <td>232</td>\n",
       "      <td>232</td>\n",
       "      <td>232</td>\n",
       "      <td>232</td>\n",
       "      <td>232</td>\n",
       "      <td>...</td>\n",
       "      <td>117</td>\n",
       "      <td>123</td>\n",
       "      <td>133</td>\n",
       "      <td>141</td>\n",
       "      <td>153</td>\n",
       "      <td>163</td>\n",
       "      <td>178</td>\n",
       "      <td>191</td>\n",
       "      <td>199</td>\n",
       "      <td>8</td>\n",
       "    </tr>\n",
       "    <tr>\n",
       "      <th>2</th>\n",
       "      <td>158</td>\n",
       "      <td>158</td>\n",
       "      <td>139</td>\n",
       "      <td>132</td>\n",
       "      <td>166</td>\n",
       "      <td>182</td>\n",
       "      <td>187</td>\n",
       "      <td>193</td>\n",
       "      <td>199</td>\n",
       "      <td>205</td>\n",
       "      <td>...</td>\n",
       "      <td>46</td>\n",
       "      <td>44</td>\n",
       "      <td>44</td>\n",
       "      <td>43</td>\n",
       "      <td>52</td>\n",
       "      <td>37</td>\n",
       "      <td>8</td>\n",
       "      <td>3</td>\n",
       "      <td>7</td>\n",
       "      <td>8</td>\n",
       "    </tr>\n",
       "    <tr>\n",
       "      <th>3</th>\n",
       "      <td>155</td>\n",
       "      <td>167</td>\n",
       "      <td>176</td>\n",
       "      <td>190</td>\n",
       "      <td>177</td>\n",
       "      <td>166</td>\n",
       "      <td>168</td>\n",
       "      <td>166</td>\n",
       "      <td>170</td>\n",
       "      <td>179</td>\n",
       "      <td>...</td>\n",
       "      <td>55</td>\n",
       "      <td>70</td>\n",
       "      <td>103</td>\n",
       "      <td>105</td>\n",
       "      <td>72</td>\n",
       "      <td>53</td>\n",
       "      <td>50</td>\n",
       "      <td>52</td>\n",
       "      <td>50</td>\n",
       "      <td>0</td>\n",
       "    </tr>\n",
       "    <tr>\n",
       "      <th>4</th>\n",
       "      <td>65</td>\n",
       "      <td>70</td>\n",
       "      <td>48</td>\n",
       "      <td>30</td>\n",
       "      <td>23</td>\n",
       "      <td>40</td>\n",
       "      <td>44</td>\n",
       "      <td>45</td>\n",
       "      <td>45</td>\n",
       "      <td>40</td>\n",
       "      <td>...</td>\n",
       "      <td>127</td>\n",
       "      <td>156</td>\n",
       "      <td>139</td>\n",
       "      <td>131</td>\n",
       "      <td>130</td>\n",
       "      <td>147</td>\n",
       "      <td>136</td>\n",
       "      <td>146</td>\n",
       "      <td>117</td>\n",
       "      <td>6</td>\n",
       "    </tr>\n",
       "  </tbody>\n",
       "</table>\n",
       "<p>5 rows × 3073 columns</p>\n",
       "</div>"
      ],
      "text/plain": [
       "     0    1    2    3    4    5    6    7    8    9   ...    3063  3064  3065  \\\n",
       "0  158  159  165  166  160  156  162  159  158  159   ...     123   145   167   \n",
       "1  235  231  232  232  232  232  232  232  232  232   ...     117   123   133   \n",
       "2  158  158  139  132  166  182  187  193  199  205   ...      46    44    44   \n",
       "3  155  167  176  190  177  166  168  166  170  179   ...      55    70   103   \n",
       "4   65   70   48   30   23   40   44   45   45   40   ...     127   156   139   \n",
       "\n",
       "   3066  3067  3068  3069  3070  3071  labels  \n",
       "0   182   175   145   124   129   110       3  \n",
       "1   141   153   163   178   191   199       8  \n",
       "2    43    52    37     8     3     7       8  \n",
       "3   105    72    53    50    52    50       0  \n",
       "4   131   130   147   136   146   117       6  \n",
       "\n",
       "[5 rows x 3073 columns]"
      ]
     },
     "execution_count": 35,
     "metadata": {},
     "output_type": "execute_result"
    }
   ],
   "source": [
    "images.head()"
   ]
  },
  {
   "cell_type": "code",
   "execution_count": 12,
   "metadata": {},
   "outputs": [
    {
     "data": {
      "image/png": "[encoded data removed]",
      "text/plain": [
       "<PIL.Image.Image image mode=L size=100x100 at 0x114721208>"
      ]
     },
     "execution_count": 12,
     "metadata": {},
     "output_type": "execute_result"
    }
   ],
   "source": [
    "Image.fromarray(np.array(d.get(b'data'))[1][:1024].reshape(32,32)).resize((100, 100))\n"
   ]
  },
  {
   "cell_type": "code",
   "execution_count": 13,
   "metadata": {},
   "outputs": [
    {
     "data": {
      "image/png": "[encoded data removed]",
      "text/plain": [
       "<PIL.Image.Image image mode=L size=100x100 at 0x10B158B70>"
      ]
     },
     "execution_count": 13,
     "metadata": {},
     "output_type": "execute_result"
    }
   ],
   "source": [
    "Image.fromarray(np.array(d.get(b'data'))[1][1024:2048].reshape(32,32)).resize((100, 100))"
   ]
  },
  {
   "cell_type": "code",
   "execution_count": 14,
   "metadata": {},
   "outputs": [
    {
     "data": {
      "image/png": "[encoded data removed]",
      "text/plain": [
       "<PIL.Image.Image image mode=L size=100x100 at 0x1146A7908>"
      ]
     },
     "execution_count": 14,
     "metadata": {},
     "output_type": "execute_result"
    }
   ],
   "source": [
    "Image.fromarray(np.array(d.get(b'data'))[1][2048:3072].reshape(32,32)).resize((100, 100))"
   ]
  },
  {
   "cell_type": "code",
   "execution_count": 15,
   "metadata": {},
   "outputs": [
    {
     "data": {
      "image/png": "[encoded data removed]",
      "text/plain": [
       "<matplotlib.figure.Figure at 0x118344c88>"
      ]
     },
     "metadata": {},
     "output_type": "display_data"
    }
   ],
   "source": [
    "\n",
    "createPlot(im = np.array(d.get(b'data').astype('uint8'))[1])"
   ]
  },
  {
   "cell_type": "markdown",
   "metadata": {},
   "source": [
    "# Part 1"
   ]
  },
  {
   "cell_type": "code",
   "execution_count": 37,
   "metadata": {},
   "outputs": [],
   "source": [
    "#group df by labels\n",
    "groups = images.groupby('labels')"
   ]
  },
  {
   "cell_type": "code",
   "execution_count": 130,
   "metadata": {},
   "outputs": [],
   "source": [
    "meanimages = []\n",
    "centered =[]\n",
    "pcaError =[]\n",
    "for i, cat in enumerate(categories):\n",
    "    group = groups.get_group(i)\n",
    "    grp =group.drop(\"labels\", axis=1).reset_index(drop=True)\n",
    "    #Part1\n",
    "    ##MEAN IMAGE\n",
    "    m =grp.mean().astype('uint8')\n",
    "    meanimages.append(m)\n",
    "    centered.append(grp - m)\n",
    "    \n",
    "    ##PCA 20\n",
    "    pca = PCA(n_components=20)\n",
    "    pca.fit(grp)    \n",
    "    \n",
    "    ##Error\n",
    "    components = pca.transform(grp)\n",
    "    inv = pd.DataFrame(pca.inverse_transform(components))\n",
    "    pcaError.append(int(np.square(grp-inv).sum(axis=1).mean()))\n"
   ]
  },
  {
   "cell_type": "code",
   "execution_count": 131,
   "metadata": {
    "scrolled": true
   },
   "outputs": [
    {
     "name": "stdout",
     "output_type": "stream",
     "text": [
      "airplane\n"
     ]
    },
    {
     "name": "stderr",
     "output_type": "stream",
     "text": [
      "/Library/Frameworks/Python.framework/Versions/3.6/lib/python3.6/site-packages/ipykernel_launcher.py:8: FutureWarning: reshape is deprecated and will raise in a subsequent release. Please use .values.reshape(...) instead\n",
      "  \n",
      "/Library/Frameworks/Python.framework/Versions/3.6/lib/python3.6/site-packages/ipykernel_launcher.py:9: FutureWarning: reshape is deprecated and will raise in a subsequent release. Please use .values.reshape(...) instead\n",
      "  if __name__ == '__main__':\n",
      "/Library/Frameworks/Python.framework/Versions/3.6/lib/python3.6/site-packages/ipykernel_launcher.py:10: FutureWarning: reshape is deprecated and will raise in a subsequent release. Please use .values.reshape(...) instead\n",
      "  # Remove the CWD from sys.path while we load stuff.\n"
     ]
    },
    {
     "data": {
      "image/png": "[encoded data removed]",
      "text/plain": [
       "<matplotlib.figure.Figure at 0x121081080>"
      ]
     },
     "metadata": {},
     "output_type": "display_data"
    },
    {
     "name": "stdout",
     "output_type": "stream",
     "text": [
      "automobile\n"
     ]
    },
    {
     "data": {
      "image/png": "[encoded data removed]",
      "text/plain": [
       "<matplotlib.figure.Figure at 0x11cd4d4e0>"
      ]
     },
     "metadata": {},
     "output_type": "display_data"
    },
    {
     "name": "stdout",
     "output_type": "stream",
     "text": [
      "bird\n"
     ]
    },
    {
     "data": {
      "image/png": "[encoded data removed]",
      "text/plain": [
       "<matplotlib.figure.Figure at 0x10c99cb38>"
      ]
     },
     "metadata": {},
     "output_type": "display_data"
    },
    {
     "name": "stdout",
     "output_type": "stream",
     "text": [
      "cat\n"
     ]
    },
    {
     "data": {
      "image/png": "[encoded data removed]",
      "text/plain": [
       "<matplotlib.figure.Figure at 0x124fa9908>"
      ]
     },
     "metadata": {},
     "output_type": "display_data"
    },
    {
     "name": "stdout",
     "output_type": "stream",
     "text": [
      "deer\n"
     ]
    },
    {
     "data": {
      "image/png": "[encoded data removed]",
      "text/plain": [
       "<matplotlib.figure.Figure at 0x120499470>"
      ]
     },
     "metadata": {},
     "output_type": "display_data"
    },
    {
     "name": "stdout",
     "output_type": "stream",
     "text": [
      "dog\n"
     ]
    },
    {
     "data": {
      "image/png": "[encoded data removed]",
      "text/plain": [
       "<matplotlib.figure.Figure at 0x1214ddc88>"
      ]
     },
     "metadata": {},
     "output_type": "display_data"
    },
    {
     "name": "stdout",
     "output_type": "stream",
     "text": [
      "frog\n"
     ]
    },
    {
     "data": {
      "image/png": "[encoded data removed]",
      "text/plain": [
       "<matplotlib.figure.Figure at 0x11a542f60>"
      ]
     },
     "metadata": {},
     "output_type": "display_data"
    },
    {
     "name": "stdout",
     "output_type": "stream",
     "text": [
      "horse\n"
     ]
    },
    {
     "data": {
      "image/png": "[encoded data removed]",
      "text/plain": [
       "<matplotlib.figure.Figure at 0x11a5b3da0>"
      ]
     },
     "metadata": {},
     "output_type": "display_data"
    },
    {
     "name": "stdout",
     "output_type": "stream",
     "text": [
      "ship\n"
     ]
    },
    {
     "data": {
      "image/png": "[encoded data removed]",
      "text/plain": [
       "<matplotlib.figure.Figure at 0x11c274ef0>"
      ]
     },
     "metadata": {},
     "output_type": "display_data"
    },
    {
     "name": "stdout",
     "output_type": "stream",
     "text": [
      "truck\n"
     ]
    },
    {
     "data": {
      "image/png": "[encoded data removed]",
      "text/plain": [
       "<matplotlib.figure.Figure at 0x1255fdac8>"
      ]
     },
     "metadata": {},
     "output_type": "display_data"
    }
   ],
   "source": [
    "for i, cat in enumerate(categories):\n",
    "    print(cat)\n",
    "    createPlot(meanimages[i])"
   ]
  },
  {
   "cell_type": "code",
   "execution_count": 132,
   "metadata": {},
   "outputs": [
    {
     "data": {
      "image/png": "[encoded data removed]",
      "text/plain": [
       "<matplotlib.figure.Figure at 0x1255da940>"
      ]
     },
     "metadata": {},
     "output_type": "display_data"
    }
   ],
   "source": [
    "plt.bar(categories, pcaError, align='center', alpha=0.5)\n",
    "plt.ylabel('Error')\n",
    "plt.xticks(rotation=90)\n",
    "plt.title('Error of each Categories')\n",
    "plt.show()"
   ]
  },
  {
   "cell_type": "markdown",
   "metadata": {},
   "source": [
    "# Part 2"
   ]
  },
  {
   "cell_type": "code",
   "execution_count": 95,
   "metadata": {},
   "outputs": [
    {
     "data": {
      "text/html": [
       "<div>\n",
       "<style scoped>\n",
       "    .dataframe tbody tr th:only-of-type {\n",
       "        vertical-align: middle;\n",
       "    }\n",
       "\n",
       "    .dataframe tbody tr th {\n",
       "        vertical-align: top;\n",
       "    }\n",
       "\n",
       "    .dataframe thead th {\n",
       "        text-align: right;\n",
       "    }\n",
       "</style>\n",
       "<table border=\"1\" class=\"dataframe\">\n",
       "  <thead>\n",
       "    <tr style=\"text-align: right;\">\n",
       "      <th></th>\n",
       "      <th>0</th>\n",
       "      <th>1</th>\n",
       "      <th>2</th>\n",
       "      <th>3</th>\n",
       "      <th>4</th>\n",
       "      <th>5</th>\n",
       "      <th>6</th>\n",
       "      <th>7</th>\n",
       "      <th>8</th>\n",
       "      <th>9</th>\n",
       "    </tr>\n",
       "  </thead>\n",
       "  <tbody>\n",
       "    <tr>\n",
       "      <th>0</th>\n",
       "      <td>0.000000</td>\n",
       "      <td>1834.101415</td>\n",
       "      <td>1711.634599</td>\n",
       "      <td>2027.760094</td>\n",
       "      <td>2349.357359</td>\n",
       "      <td>1991.162726</td>\n",
       "      <td>2556.765535</td>\n",
       "      <td>1719.123614</td>\n",
       "      <td>1084.982949</td>\n",
       "      <td>1513.963672</td>\n",
       "    </tr>\n",
       "    <tr>\n",
       "      <th>1</th>\n",
       "      <td>1834.101415</td>\n",
       "      <td>0.000000</td>\n",
       "      <td>908.030286</td>\n",
       "      <td>1043.826135</td>\n",
       "      <td>1180.504130</td>\n",
       "      <td>1216.553739</td>\n",
       "      <td>1188.214627</td>\n",
       "      <td>944.744410</td>\n",
       "      <td>1288.484381</td>\n",
       "      <td>994.302771</td>\n",
       "    </tr>\n",
       "    <tr>\n",
       "      <th>2</th>\n",
       "      <td>1711.634599</td>\n",
       "      <td>908.030286</td>\n",
       "      <td>0.000000</td>\n",
       "      <td>516.238317</td>\n",
       "      <td>690.267340</td>\n",
       "      <td>658.833818</td>\n",
       "      <td>919.684185</td>\n",
       "      <td>455.821237</td>\n",
       "      <td>1540.931861</td>\n",
       "      <td>1410.780989</td>\n",
       "    </tr>\n",
       "    <tr>\n",
       "      <th>3</th>\n",
       "      <td>2027.760094</td>\n",
       "      <td>1043.826135</td>\n",
       "      <td>516.238317</td>\n",
       "      <td>0.000000</td>\n",
       "      <td>514.417146</td>\n",
       "      <td>477.727956</td>\n",
       "      <td>674.235122</td>\n",
       "      <td>634.840925</td>\n",
       "      <td>1864.484647</td>\n",
       "      <td>1672.797358</td>\n",
       "    </tr>\n",
       "    <tr>\n",
       "      <th>4</th>\n",
       "      <td>2349.357359</td>\n",
       "      <td>1180.504130</td>\n",
       "      <td>690.267340</td>\n",
       "      <td>514.417146</td>\n",
       "      <td>0.000000</td>\n",
       "      <td>718.430929</td>\n",
       "      <td>424.325347</td>\n",
       "      <td>821.303841</td>\n",
       "      <td>2117.221764</td>\n",
       "      <td>1876.926743</td>\n",
       "    </tr>\n",
       "    <tr>\n",
       "      <th>5</th>\n",
       "      <td>1991.162726</td>\n",
       "      <td>1216.553739</td>\n",
       "      <td>658.833818</td>\n",
       "      <td>477.727956</td>\n",
       "      <td>718.430929</td>\n",
       "      <td>0.000000</td>\n",
       "      <td>902.028270</td>\n",
       "      <td>834.124091</td>\n",
       "      <td>1845.342516</td>\n",
       "      <td>1837.569318</td>\n",
       "    </tr>\n",
       "    <tr>\n",
       "      <th>6</th>\n",
       "      <td>2556.765535</td>\n",
       "      <td>1188.214627</td>\n",
       "      <td>919.684185</td>\n",
       "      <td>674.235122</td>\n",
       "      <td>424.325347</td>\n",
       "      <td>902.028270</td>\n",
       "      <td>0.000000</td>\n",
       "      <td>994.340988</td>\n",
       "      <td>2230.945539</td>\n",
       "      <td>1910.186378</td>\n",
       "    </tr>\n",
       "    <tr>\n",
       "      <th>7</th>\n",
       "      <td>1719.123614</td>\n",
       "      <td>944.744410</td>\n",
       "      <td>455.821237</td>\n",
       "      <td>634.840925</td>\n",
       "      <td>821.303841</td>\n",
       "      <td>834.124091</td>\n",
       "      <td>994.340988</td>\n",
       "      <td>0.000000</td>\n",
       "      <td>1573.712172</td>\n",
       "      <td>1268.499113</td>\n",
       "    </tr>\n",
       "    <tr>\n",
       "      <th>8</th>\n",
       "      <td>1084.982949</td>\n",
       "      <td>1288.484381</td>\n",
       "      <td>1540.931861</td>\n",
       "      <td>1864.484647</td>\n",
       "      <td>2117.221764</td>\n",
       "      <td>1845.342516</td>\n",
       "      <td>2230.945539</td>\n",
       "      <td>1573.712172</td>\n",
       "      <td>0.000000</td>\n",
       "      <td>1041.952014</td>\n",
       "    </tr>\n",
       "    <tr>\n",
       "      <th>9</th>\n",
       "      <td>1513.963672</td>\n",
       "      <td>994.302771</td>\n",
       "      <td>1410.780989</td>\n",
       "      <td>1672.797358</td>\n",
       "      <td>1876.926743</td>\n",
       "      <td>1837.569318</td>\n",
       "      <td>1910.186378</td>\n",
       "      <td>1268.499113</td>\n",
       "      <td>1041.952014</td>\n",
       "      <td>0.000000</td>\n",
       "    </tr>\n",
       "  </tbody>\n",
       "</table>\n",
       "</div>"
      ],
      "text/plain": [
       "             0            1            2            3            4  \\\n",
       "0     0.000000  1834.101415  1711.634599  2027.760094  2349.357359   \n",
       "1  1834.101415     0.000000   908.030286  1043.826135  1180.504130   \n",
       "2  1711.634599   908.030286     0.000000   516.238317   690.267340   \n",
       "3  2027.760094  1043.826135   516.238317     0.000000   514.417146   \n",
       "4  2349.357359  1180.504130   690.267340   514.417146     0.000000   \n",
       "5  1991.162726  1216.553739   658.833818   477.727956   718.430929   \n",
       "6  2556.765535  1188.214627   919.684185   674.235122   424.325347   \n",
       "7  1719.123614   944.744410   455.821237   634.840925   821.303841   \n",
       "8  1084.982949  1288.484381  1540.931861  1864.484647  2117.221764   \n",
       "9  1513.963672   994.302771  1410.780989  1672.797358  1876.926743   \n",
       "\n",
       "             5            6            7            8            9  \n",
       "0  1991.162726  2556.765535  1719.123614  1084.982949  1513.963672  \n",
       "1  1216.553739  1188.214627   944.744410  1288.484381   994.302771  \n",
       "2   658.833818   919.684185   455.821237  1540.931861  1410.780989  \n",
       "3   477.727956   674.235122   634.840925  1864.484647  1672.797358  \n",
       "4   718.430929   424.325347   821.303841  2117.221764  1876.926743  \n",
       "5     0.000000   902.028270   834.124091  1845.342516  1837.569318  \n",
       "6   902.028270     0.000000   994.340988  2230.945539  1910.186378  \n",
       "7   834.124091   994.340988     0.000000  1573.712172  1268.499113  \n",
       "8  1845.342516  2230.945539  1573.712172     0.000000  1041.952014  \n",
       "9  1837.569318  1910.186378  1268.499113  1041.952014     0.000000  "
      ]
     },
     "execution_count": 95,
     "metadata": {},
     "output_type": "execute_result"
    }
   ],
   "source": [
    "similarities = euclidean_distances(meanimages)\n",
    "pd.DataFrame(similarities)"
   ]
  },
  {
   "cell_type": "code",
   "execution_count": 122,
   "metadata": {},
   "outputs": [
    {
     "data": {
      "image/png": "[encoded data removed]",
      "text/plain": [
       "<matplotlib.figure.Figure at 0x124fd8d68>"
      ]
     },
     "metadata": {},
     "output_type": "display_data"
    }
   ],
   "source": [
    "mds = MDS(n_components=2, random_state=1, dissimilarity=\"precomputed\", n_jobs=1)\n",
    "pos = mds.fit(similarities).embedding_\n",
    "plt.figure()\n",
    "plt.scatter(pos[:,0], pos[:,1],)\n",
    "for i in range (0,10):\n",
    "    xy=(pos[i][0],pos[i][1])\n",
    "    plt.annotate(categories[i],xy)\n",
    "plt.show()"
   ]
  },
  {
   "cell_type": "markdown",
   "metadata": {},
   "source": [
    "# Part3"
   ]
  },
  {
   "cell_type": "code",
   "execution_count": 136,
   "metadata": {},
   "outputs": [
    {
     "data": {
      "text/html": [
       "<div>\n",
       "<style scoped>\n",
       "    .dataframe tbody tr th:only-of-type {\n",
       "        vertical-align: middle;\n",
       "    }\n",
       "\n",
       "    .dataframe tbody tr th {\n",
       "        vertical-align: top;\n",
       "    }\n",
       "\n",
       "    .dataframe thead th {\n",
       "        text-align: right;\n",
       "    }\n",
       "</style>\n",
       "<table border=\"1\" class=\"dataframe\">\n",
       "  <thead>\n",
       "    <tr style=\"text-align: right;\">\n",
       "      <th></th>\n",
       "      <th>0</th>\n",
       "      <th>1</th>\n",
       "      <th>2</th>\n",
       "      <th>3</th>\n",
       "      <th>4</th>\n",
       "      <th>5</th>\n",
       "      <th>6</th>\n",
       "      <th>7</th>\n",
       "      <th>8</th>\n",
       "      <th>9</th>\n",
       "    </tr>\n",
       "  </thead>\n",
       "  <tbody>\n",
       "    <tr>\n",
       "      <th>0</th>\n",
       "      <td>10026219.0</td>\n",
       "      <td>10065115.0</td>\n",
       "      <td>9979653.0</td>\n",
       "      <td>10042804.0</td>\n",
       "      <td>10063865.0</td>\n",
       "      <td>10134446.0</td>\n",
       "      <td>10096705.0</td>\n",
       "      <td>10044150.0</td>\n",
       "      <td>10043655.0</td>\n",
       "      <td>10066910.0</td>\n",
       "    </tr>\n",
       "    <tr>\n",
       "      <th>1</th>\n",
       "      <td>10065115.0</td>\n",
       "      <td>36691958.0</td>\n",
       "      <td>36828203.0</td>\n",
       "      <td>36689624.0</td>\n",
       "      <td>36698136.0</td>\n",
       "      <td>36787330.0</td>\n",
       "      <td>36574956.0</td>\n",
       "      <td>36826610.0</td>\n",
       "      <td>36673164.0</td>\n",
       "      <td>36636576.0</td>\n",
       "    </tr>\n",
       "    <tr>\n",
       "      <th>2</th>\n",
       "      <td>9979653.0</td>\n",
       "      <td>36828203.0</td>\n",
       "      <td>16368769.0</td>\n",
       "      <td>16394819.0</td>\n",
       "      <td>16380961.0</td>\n",
       "      <td>16399765.0</td>\n",
       "      <td>16353808.0</td>\n",
       "      <td>16556632.0</td>\n",
       "      <td>16464373.0</td>\n",
       "      <td>16461083.0</td>\n",
       "    </tr>\n",
       "    <tr>\n",
       "      <th>3</th>\n",
       "      <td>10042804.0</td>\n",
       "      <td>36689624.0</td>\n",
       "      <td>16394819.0</td>\n",
       "      <td>16558069.0</td>\n",
       "      <td>16562709.0</td>\n",
       "      <td>16625587.0</td>\n",
       "      <td>16526088.0</td>\n",
       "      <td>16694625.0</td>\n",
       "      <td>16503056.0</td>\n",
       "      <td>16920671.0</td>\n",
       "    </tr>\n",
       "    <tr>\n",
       "      <th>4</th>\n",
       "      <td>10063865.0</td>\n",
       "      <td>36698136.0</td>\n",
       "      <td>16380961.0</td>\n",
       "      <td>16562709.0</td>\n",
       "      <td>25346287.0</td>\n",
       "      <td>25328657.0</td>\n",
       "      <td>25408172.0</td>\n",
       "      <td>25324092.0</td>\n",
       "      <td>25325152.0</td>\n",
       "      <td>25407894.0</td>\n",
       "    </tr>\n",
       "    <tr>\n",
       "      <th>5</th>\n",
       "      <td>10134446.0</td>\n",
       "      <td>36787330.0</td>\n",
       "      <td>16399765.0</td>\n",
       "      <td>16625587.0</td>\n",
       "      <td>25328657.0</td>\n",
       "      <td>25421182.0</td>\n",
       "      <td>25516896.0</td>\n",
       "      <td>25617172.0</td>\n",
       "      <td>25376472.0</td>\n",
       "      <td>25606348.0</td>\n",
       "    </tr>\n",
       "    <tr>\n",
       "      <th>6</th>\n",
       "      <td>10096705.0</td>\n",
       "      <td>36574956.0</td>\n",
       "      <td>16353808.0</td>\n",
       "      <td>16526088.0</td>\n",
       "      <td>25408172.0</td>\n",
       "      <td>25516896.0</td>\n",
       "      <td>16181731.0</td>\n",
       "      <td>16239482.0</td>\n",
       "      <td>16175171.0</td>\n",
       "      <td>16322796.0</td>\n",
       "    </tr>\n",
       "    <tr>\n",
       "      <th>7</th>\n",
       "      <td>10044150.0</td>\n",
       "      <td>36826610.0</td>\n",
       "      <td>16556632.0</td>\n",
       "      <td>16694625.0</td>\n",
       "      <td>25324092.0</td>\n",
       "      <td>25617172.0</td>\n",
       "      <td>16239482.0</td>\n",
       "      <td>43228611.0</td>\n",
       "      <td>43497813.0</td>\n",
       "      <td>43509112.0</td>\n",
       "    </tr>\n",
       "    <tr>\n",
       "      <th>8</th>\n",
       "      <td>10043655.0</td>\n",
       "      <td>36673164.0</td>\n",
       "      <td>16464373.0</td>\n",
       "      <td>16503056.0</td>\n",
       "      <td>25325152.0</td>\n",
       "      <td>25376472.0</td>\n",
       "      <td>16175171.0</td>\n",
       "      <td>43497813.0</td>\n",
       "      <td>19353334.0</td>\n",
       "      <td>19107056.0</td>\n",
       "    </tr>\n",
       "    <tr>\n",
       "      <th>9</th>\n",
       "      <td>10066910.0</td>\n",
       "      <td>36636576.0</td>\n",
       "      <td>16461083.0</td>\n",
       "      <td>16920671.0</td>\n",
       "      <td>25407894.0</td>\n",
       "      <td>25606348.0</td>\n",
       "      <td>16322796.0</td>\n",
       "      <td>43509112.0</td>\n",
       "      <td>19107056.0</td>\n",
       "      <td>16415594.0</td>\n",
       "    </tr>\n",
       "  </tbody>\n",
       "</table>\n",
       "</div>"
      ],
      "text/plain": [
       "            0           1           2           3           4           5  \\\n",
       "0  10026219.0  10065115.0   9979653.0  10042804.0  10063865.0  10134446.0   \n",
       "1  10065115.0  36691958.0  36828203.0  36689624.0  36698136.0  36787330.0   \n",
       "2   9979653.0  36828203.0  16368769.0  16394819.0  16380961.0  16399765.0   \n",
       "3  10042804.0  36689624.0  16394819.0  16558069.0  16562709.0  16625587.0   \n",
       "4  10063865.0  36698136.0  16380961.0  16562709.0  25346287.0  25328657.0   \n",
       "5  10134446.0  36787330.0  16399765.0  16625587.0  25328657.0  25421182.0   \n",
       "6  10096705.0  36574956.0  16353808.0  16526088.0  25408172.0  25516896.0   \n",
       "7  10044150.0  36826610.0  16556632.0  16694625.0  25324092.0  25617172.0   \n",
       "8  10043655.0  36673164.0  16464373.0  16503056.0  25325152.0  25376472.0   \n",
       "9  10066910.0  36636576.0  16461083.0  16920671.0  25407894.0  25606348.0   \n",
       "\n",
       "            6           7           8           9  \n",
       "0  10096705.0  10044150.0  10043655.0  10066910.0  \n",
       "1  36574956.0  36826610.0  36673164.0  36636576.0  \n",
       "2  16353808.0  16556632.0  16464373.0  16461083.0  \n",
       "3  16526088.0  16694625.0  16503056.0  16920671.0  \n",
       "4  25408172.0  25324092.0  25325152.0  25407894.0  \n",
       "5  25516896.0  25617172.0  25376472.0  25606348.0  \n",
       "6  16181731.0  16239482.0  16175171.0  16322796.0  \n",
       "7  16239482.0  43228611.0  43497813.0  43509112.0  \n",
       "8  16175171.0  43497813.0  19353334.0  19107056.0  \n",
       "9  16322796.0  43509112.0  19107056.0  16415594.0  "
      ]
     },
     "metadata": {},
     "output_type": "display_data"
    },
    {
     "data": {
      "image/png": "[encoded data removed]",
      "text/plain": [
       "<matplotlib.figure.Figure at 0x11f326470>"
      ]
     },
     "metadata": {},
     "output_type": "display_data"
    }
   ],
   "source": [
    "pcaError = np.zeros((10,10))\n",
    "for i in range(0,10):\n",
    "    for j in range(i,10):\n",
    "        group = groups.get_group(i)\n",
    "        grp =group.drop(\"labels\", axis=1).reset_index(drop=True)     \n",
    "        \n",
    "        groupJ = groups.get_group(j)\n",
    "        grpJ =groupJ.drop(\"labels\", axis=1).reset_index(drop=True)\n",
    "                                                      \n",
    "        #get PCA of B\n",
    "        pca = PCA(n_components=20)\n",
    "        pca.fit(grpJ)    \n",
    "        \n",
    "        component = pca.transform(grp)\n",
    "        inv = pd.DataFrame(pca.inverse_transform(component))\n",
    "        error = int(np.square(grp-inv).sum(axis=1).mean())\n",
    "        pcaError[i][j] = error\n",
    "        #mirror diagonally\n",
    "        pcaError[j][i] = error\n",
    "\n",
    "display(pd.DataFrame(pcaError))\n",
    "\n",
    "mds = MDS(n_components=2, random_state=1, dissimilarity=\"precomputed\", n_jobs=1)\n",
    "pos = mds.fit(pcaError).embedding_\n",
    "plt.figure()\n",
    "plt.scatter(pos[:,0], pos[:,1])\n",
    "for i in range (0,10):\n",
    "    xy=(pos[i][0],pos[i][1])\n",
    "    plt.annotate(categories[i],xy)\n",
    "plt.show() "
   ]
  },
  {
   "cell_type": "code",
   "execution_count": null,
   "metadata": {},
   "outputs": [],
   "source": []
  },
  {
   "cell_type": "code",
   "execution_count": null,
   "metadata": {},
   "outputs": [],
   "source": []
  },
  {
   "cell_type": "code",
   "execution_count": null,
   "metadata": {},
   "outputs": [],
   "source": []
  },
  {
   "cell_type": "code",
   "execution_count": null,
   "metadata": {},
   "outputs": [],
   "source": []
  },
  {
   "cell_type": "code",
   "execution_count": null,
   "metadata": {},
   "outputs": [],
   "source": []
  },
  {
   "cell_type": "code",
   "execution_count": null,
   "metadata": {},
   "outputs": [],
   "source": []
  },
  {
   "cell_type": "code",
   "execution_count": null,
   "metadata": {},
   "outputs": [],
   "source": []
  },
  {
   "cell_type": "code",
   "execution_count": null,
   "metadata": {},
   "outputs": [],
   "source": []
  },
  {
   "cell_type": "code",
   "execution_count": null,
   "metadata": {},
   "outputs": [],
   "source": []
  }
 ],
 "metadata": {
  "kernelspec": {
   "display_name": "Python 3",
   "language": "python",
   "name": "python3"
  },
  "language_info": {
   "codemirror_mode": {
    "name": "ipython",
    "version": 3
   },
   "file_extension": ".py",
   "mimetype": "text/x-python",
   "name": "python",
   "nbconvert_exporter": "python",
   "pygments_lexer": "ipython3",
   "version": "3.6.2"
  }
 },
 "nbformat": 4,
 "nbformat_minor": 2
}
